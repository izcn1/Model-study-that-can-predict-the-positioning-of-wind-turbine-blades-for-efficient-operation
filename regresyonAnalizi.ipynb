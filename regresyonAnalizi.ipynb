{
  "nbformat": 4,
  "nbformat_minor": 0,
  "metadata": {
    "colab": {
      "provenance": []
    },
    "kernelspec": {
      "name": "python3",
      "display_name": "Python 3"
    },
    "language_info": {
      "name": "python"
    }
  },
  "cells": [
    {
      "cell_type": "code",
      "execution_count": null,
      "metadata": {
        "id": "MtQMVkkjvmvL"
      },
      "outputs": [],
      "source": [
        "import tensorflow as tf\n",
        "import pandas as pd\n",
        "import numpy as np\n",
        "import seaborn as sbn\n",
        "import matplotlib.pyplot as plt"
      ]
    },
    {
      "cell_type": "code",
      "source": [
        "data = pd.read_csv(\"Location1.csv\")"
      ],
      "metadata": {
        "id": "dSWe9Vy5vx5i"
      },
      "execution_count": null,
      "outputs": []
    },
    {
      "cell_type": "code",
      "source": [
        "data"
      ],
      "metadata": {
        "colab": {
          "base_uri": "https://localhost:8080/",
          "height": 790
        },
        "id": "bb1kQS6DA8u-",
        "outputId": "99b98cd9-580f-4659-c989-6c163ac75381"
      },
      "execution_count": null,
      "outputs": [
        {
          "output_type": "execute_result",
          "data": {
            "text/plain": [
              "                      Time  temperature_2m  relativehumidity_2m  dewpoint_2m  \\\n",
              "0      2017-01-02 00:00:00            28.5                   85         24.5   \n",
              "1      2017-01-02 01:00:00            28.4                   86         24.7   \n",
              "2      2017-01-02 02:00:00            26.8                   91         24.5   \n",
              "3      2017-01-02 03:00:00            27.4                   88         24.3   \n",
              "4      2017-01-02 04:00:00            27.3                   88         24.1   \n",
              "...                    ...             ...                  ...          ...   \n",
              "43795  2021-12-31 19:00:00            34.1                   94         32.5   \n",
              "43796  2021-12-31 20:00:00            34.8                   94         33.4   \n",
              "43797  2021-12-31 21:00:00            34.1                   95         33.0   \n",
              "43798  2021-12-31 22:00:00            34.4                   96         33.5   \n",
              "43799  2021-12-31 23:00:00            35.0                   97         34.2   \n",
              "\n",
              "       windspeed_10m  windspeed_100m  winddirection_10m  winddirection_100m  \\\n",
              "0               1.44            1.26                146                 162   \n",
              "1               2.06            3.99                151                 158   \n",
              "2               1.30            2.78                148                 150   \n",
              "3               1.30            2.69                 58                 105   \n",
              "4               2.47            4.43                 58                  84   \n",
              "...              ...             ...                ...                 ...   \n",
              "43795           1.00            1.91                 53                 137   \n",
              "43796           2.52            4.30                 56                  72   \n",
              "43797           1.10            1.84                360                  45   \n",
              "43798           2.40            4.62                 45                  51   \n",
              "43799           2.26            5.04                 45                  51   \n",
              "\n",
              "       windgusts_10m   Power  \n",
              "0                1.4  0.1635  \n",
              "1                4.4  0.1424  \n",
              "2                3.2  0.1214  \n",
              "3                1.6  0.1003  \n",
              "4                4.0  0.0793  \n",
              "...              ...     ...  \n",
              "43795            2.5  0.1796  \n",
              "43796            4.8  0.2066  \n",
              "43797            4.3  0.2336  \n",
              "43798            4.2  0.2606  \n",
              "43799            4.3  0.2877  \n",
              "\n",
              "[43800 rows x 10 columns]"
            ],
            "text/html": [
              "\n",
              "  <div id=\"df-9823189e-a200-4e4b-8259-205d281f409a\" class=\"colab-df-container\">\n",
              "    <div>\n",
              "<style scoped>\n",
              "    .dataframe tbody tr th:only-of-type {\n",
              "        vertical-align: middle;\n",
              "    }\n",
              "\n",
              "    .dataframe tbody tr th {\n",
              "        vertical-align: top;\n",
              "    }\n",
              "\n",
              "    .dataframe thead th {\n",
              "        text-align: right;\n",
              "    }\n",
              "</style>\n",
              "<table border=\"1\" class=\"dataframe\">\n",
              "  <thead>\n",
              "    <tr style=\"text-align: right;\">\n",
              "      <th></th>\n",
              "      <th>Time</th>\n",
              "      <th>temperature_2m</th>\n",
              "      <th>relativehumidity_2m</th>\n",
              "      <th>dewpoint_2m</th>\n",
              "      <th>windspeed_10m</th>\n",
              "      <th>windspeed_100m</th>\n",
              "      <th>winddirection_10m</th>\n",
              "      <th>winddirection_100m</th>\n",
              "      <th>windgusts_10m</th>\n",
              "      <th>Power</th>\n",
              "    </tr>\n",
              "  </thead>\n",
              "  <tbody>\n",
              "    <tr>\n",
              "      <th>0</th>\n",
              "      <td>2017-01-02 00:00:00</td>\n",
              "      <td>28.5</td>\n",
              "      <td>85</td>\n",
              "      <td>24.5</td>\n",
              "      <td>1.44</td>\n",
              "      <td>1.26</td>\n",
              "      <td>146</td>\n",
              "      <td>162</td>\n",
              "      <td>1.4</td>\n",
              "      <td>0.1635</td>\n",
              "    </tr>\n",
              "    <tr>\n",
              "      <th>1</th>\n",
              "      <td>2017-01-02 01:00:00</td>\n",
              "      <td>28.4</td>\n",
              "      <td>86</td>\n",
              "      <td>24.7</td>\n",
              "      <td>2.06</td>\n",
              "      <td>3.99</td>\n",
              "      <td>151</td>\n",
              "      <td>158</td>\n",
              "      <td>4.4</td>\n",
              "      <td>0.1424</td>\n",
              "    </tr>\n",
              "    <tr>\n",
              "      <th>2</th>\n",
              "      <td>2017-01-02 02:00:00</td>\n",
              "      <td>26.8</td>\n",
              "      <td>91</td>\n",
              "      <td>24.5</td>\n",
              "      <td>1.30</td>\n",
              "      <td>2.78</td>\n",
              "      <td>148</td>\n",
              "      <td>150</td>\n",
              "      <td>3.2</td>\n",
              "      <td>0.1214</td>\n",
              "    </tr>\n",
              "    <tr>\n",
              "      <th>3</th>\n",
              "      <td>2017-01-02 03:00:00</td>\n",
              "      <td>27.4</td>\n",
              "      <td>88</td>\n",
              "      <td>24.3</td>\n",
              "      <td>1.30</td>\n",
              "      <td>2.69</td>\n",
              "      <td>58</td>\n",
              "      <td>105</td>\n",
              "      <td>1.6</td>\n",
              "      <td>0.1003</td>\n",
              "    </tr>\n",
              "    <tr>\n",
              "      <th>4</th>\n",
              "      <td>2017-01-02 04:00:00</td>\n",
              "      <td>27.3</td>\n",
              "      <td>88</td>\n",
              "      <td>24.1</td>\n",
              "      <td>2.47</td>\n",
              "      <td>4.43</td>\n",
              "      <td>58</td>\n",
              "      <td>84</td>\n",
              "      <td>4.0</td>\n",
              "      <td>0.0793</td>\n",
              "    </tr>\n",
              "    <tr>\n",
              "      <th>...</th>\n",
              "      <td>...</td>\n",
              "      <td>...</td>\n",
              "      <td>...</td>\n",
              "      <td>...</td>\n",
              "      <td>...</td>\n",
              "      <td>...</td>\n",
              "      <td>...</td>\n",
              "      <td>...</td>\n",
              "      <td>...</td>\n",
              "      <td>...</td>\n",
              "    </tr>\n",
              "    <tr>\n",
              "      <th>43795</th>\n",
              "      <td>2021-12-31 19:00:00</td>\n",
              "      <td>34.1</td>\n",
              "      <td>94</td>\n",
              "      <td>32.5</td>\n",
              "      <td>1.00</td>\n",
              "      <td>1.91</td>\n",
              "      <td>53</td>\n",
              "      <td>137</td>\n",
              "      <td>2.5</td>\n",
              "      <td>0.1796</td>\n",
              "    </tr>\n",
              "    <tr>\n",
              "      <th>43796</th>\n",
              "      <td>2021-12-31 20:00:00</td>\n",
              "      <td>34.8</td>\n",
              "      <td>94</td>\n",
              "      <td>33.4</td>\n",
              "      <td>2.52</td>\n",
              "      <td>4.30</td>\n",
              "      <td>56</td>\n",
              "      <td>72</td>\n",
              "      <td>4.8</td>\n",
              "      <td>0.2066</td>\n",
              "    </tr>\n",
              "    <tr>\n",
              "      <th>43797</th>\n",
              "      <td>2021-12-31 21:00:00</td>\n",
              "      <td>34.1</td>\n",
              "      <td>95</td>\n",
              "      <td>33.0</td>\n",
              "      <td>1.10</td>\n",
              "      <td>1.84</td>\n",
              "      <td>360</td>\n",
              "      <td>45</td>\n",
              "      <td>4.3</td>\n",
              "      <td>0.2336</td>\n",
              "    </tr>\n",
              "    <tr>\n",
              "      <th>43798</th>\n",
              "      <td>2021-12-31 22:00:00</td>\n",
              "      <td>34.4</td>\n",
              "      <td>96</td>\n",
              "      <td>33.5</td>\n",
              "      <td>2.40</td>\n",
              "      <td>4.62</td>\n",
              "      <td>45</td>\n",
              "      <td>51</td>\n",
              "      <td>4.2</td>\n",
              "      <td>0.2606</td>\n",
              "    </tr>\n",
              "    <tr>\n",
              "      <th>43799</th>\n",
              "      <td>2021-12-31 23:00:00</td>\n",
              "      <td>35.0</td>\n",
              "      <td>97</td>\n",
              "      <td>34.2</td>\n",
              "      <td>2.26</td>\n",
              "      <td>5.04</td>\n",
              "      <td>45</td>\n",
              "      <td>51</td>\n",
              "      <td>4.3</td>\n",
              "      <td>0.2877</td>\n",
              "    </tr>\n",
              "  </tbody>\n",
              "</table>\n",
              "<p>43800 rows × 10 columns</p>\n",
              "</div>\n",
              "    <div class=\"colab-df-buttons\">\n",
              "\n",
              "  <div class=\"colab-df-container\">\n",
              "    <button class=\"colab-df-convert\" onclick=\"convertToInteractive('df-9823189e-a200-4e4b-8259-205d281f409a')\"\n",
              "            title=\"Convert this dataframe to an interactive table.\"\n",
              "            style=\"display:none;\">\n",
              "\n",
              "  <svg xmlns=\"http://www.w3.org/2000/svg\" height=\"24px\" viewBox=\"0 -960 960 960\">\n",
              "    <path d=\"M120-120v-720h720v720H120Zm60-500h600v-160H180v160Zm220 220h160v-160H400v160Zm0 220h160v-160H400v160ZM180-400h160v-160H180v160Zm440 0h160v-160H620v160ZM180-180h160v-160H180v160Zm440 0h160v-160H620v160Z\"/>\n",
              "  </svg>\n",
              "    </button>\n",
              "\n",
              "  <style>\n",
              "    .colab-df-container {\n",
              "      display:flex;\n",
              "      gap: 12px;\n",
              "    }\n",
              "\n",
              "    .colab-df-convert {\n",
              "      background-color: #E8F0FE;\n",
              "      border: none;\n",
              "      border-radius: 50%;\n",
              "      cursor: pointer;\n",
              "      display: none;\n",
              "      fill: #1967D2;\n",
              "      height: 32px;\n",
              "      padding: 0 0 0 0;\n",
              "      width: 32px;\n",
              "    }\n",
              "\n",
              "    .colab-df-convert:hover {\n",
              "      background-color: #E2EBFA;\n",
              "      box-shadow: 0px 1px 2px rgba(60, 64, 67, 0.3), 0px 1px 3px 1px rgba(60, 64, 67, 0.15);\n",
              "      fill: #174EA6;\n",
              "    }\n",
              "\n",
              "    .colab-df-buttons div {\n",
              "      margin-bottom: 4px;\n",
              "    }\n",
              "\n",
              "    [theme=dark] .colab-df-convert {\n",
              "      background-color: #3B4455;\n",
              "      fill: #D2E3FC;\n",
              "    }\n",
              "\n",
              "    [theme=dark] .colab-df-convert:hover {\n",
              "      background-color: #434B5C;\n",
              "      box-shadow: 0px 1px 3px 1px rgba(0, 0, 0, 0.15);\n",
              "      filter: drop-shadow(0px 1px 2px rgba(0, 0, 0, 0.3));\n",
              "      fill: #FFFFFF;\n",
              "    }\n",
              "  </style>\n",
              "\n",
              "    <script>\n",
              "      const buttonEl =\n",
              "        document.querySelector('#df-9823189e-a200-4e4b-8259-205d281f409a button.colab-df-convert');\n",
              "      buttonEl.style.display =\n",
              "        google.colab.kernel.accessAllowed ? 'block' : 'none';\n",
              "\n",
              "      async function convertToInteractive(key) {\n",
              "        const element = document.querySelector('#df-9823189e-a200-4e4b-8259-205d281f409a');\n",
              "        const dataTable =\n",
              "          await google.colab.kernel.invokeFunction('convertToInteractive',\n",
              "                                                    [key], {});\n",
              "        if (!dataTable) return;\n",
              "\n",
              "        const docLinkHtml = 'Like what you see? Visit the ' +\n",
              "          '<a target=\"_blank\" href=https://colab.research.google.com/notebooks/data_table.ipynb>data table notebook</a>'\n",
              "          + ' to learn more about interactive tables.';\n",
              "        element.innerHTML = '';\n",
              "        dataTable['output_type'] = 'display_data';\n",
              "        await google.colab.output.renderOutput(dataTable, element);\n",
              "        const docLink = document.createElement('div');\n",
              "        docLink.innerHTML = docLinkHtml;\n",
              "        element.appendChild(docLink);\n",
              "      }\n",
              "    </script>\n",
              "  </div>\n",
              "\n",
              "\n",
              "<div id=\"df-ab206f71-f930-458c-a671-d38792b656ec\">\n",
              "  <button class=\"colab-df-quickchart\" onclick=\"quickchart('df-ab206f71-f930-458c-a671-d38792b656ec')\"\n",
              "            title=\"Suggest charts\"\n",
              "            style=\"display:none;\">\n",
              "\n",
              "<svg xmlns=\"http://www.w3.org/2000/svg\" height=\"24px\"viewBox=\"0 0 24 24\"\n",
              "     width=\"24px\">\n",
              "    <g>\n",
              "        <path d=\"M19 3H5c-1.1 0-2 .9-2 2v14c0 1.1.9 2 2 2h14c1.1 0 2-.9 2-2V5c0-1.1-.9-2-2-2zM9 17H7v-7h2v7zm4 0h-2V7h2v10zm4 0h-2v-4h2v4z\"/>\n",
              "    </g>\n",
              "</svg>\n",
              "  </button>\n",
              "\n",
              "<style>\n",
              "  .colab-df-quickchart {\n",
              "      --bg-color: #E8F0FE;\n",
              "      --fill-color: #1967D2;\n",
              "      --hover-bg-color: #E2EBFA;\n",
              "      --hover-fill-color: #174EA6;\n",
              "      --disabled-fill-color: #AAA;\n",
              "      --disabled-bg-color: #DDD;\n",
              "  }\n",
              "\n",
              "  [theme=dark] .colab-df-quickchart {\n",
              "      --bg-color: #3B4455;\n",
              "      --fill-color: #D2E3FC;\n",
              "      --hover-bg-color: #434B5C;\n",
              "      --hover-fill-color: #FFFFFF;\n",
              "      --disabled-bg-color: #3B4455;\n",
              "      --disabled-fill-color: #666;\n",
              "  }\n",
              "\n",
              "  .colab-df-quickchart {\n",
              "    background-color: var(--bg-color);\n",
              "    border: none;\n",
              "    border-radius: 50%;\n",
              "    cursor: pointer;\n",
              "    display: none;\n",
              "    fill: var(--fill-color);\n",
              "    height: 32px;\n",
              "    padding: 0;\n",
              "    width: 32px;\n",
              "  }\n",
              "\n",
              "  .colab-df-quickchart:hover {\n",
              "    background-color: var(--hover-bg-color);\n",
              "    box-shadow: 0 1px 2px rgba(60, 64, 67, 0.3), 0 1px 3px 1px rgba(60, 64, 67, 0.15);\n",
              "    fill: var(--button-hover-fill-color);\n",
              "  }\n",
              "\n",
              "  .colab-df-quickchart-complete:disabled,\n",
              "  .colab-df-quickchart-complete:disabled:hover {\n",
              "    background-color: var(--disabled-bg-color);\n",
              "    fill: var(--disabled-fill-color);\n",
              "    box-shadow: none;\n",
              "  }\n",
              "\n",
              "  .colab-df-spinner {\n",
              "    border: 2px solid var(--fill-color);\n",
              "    border-color: transparent;\n",
              "    border-bottom-color: var(--fill-color);\n",
              "    animation:\n",
              "      spin 1s steps(1) infinite;\n",
              "  }\n",
              "\n",
              "  @keyframes spin {\n",
              "    0% {\n",
              "      border-color: transparent;\n",
              "      border-bottom-color: var(--fill-color);\n",
              "      border-left-color: var(--fill-color);\n",
              "    }\n",
              "    20% {\n",
              "      border-color: transparent;\n",
              "      border-left-color: var(--fill-color);\n",
              "      border-top-color: var(--fill-color);\n",
              "    }\n",
              "    30% {\n",
              "      border-color: transparent;\n",
              "      border-left-color: var(--fill-color);\n",
              "      border-top-color: var(--fill-color);\n",
              "      border-right-color: var(--fill-color);\n",
              "    }\n",
              "    40% {\n",
              "      border-color: transparent;\n",
              "      border-right-color: var(--fill-color);\n",
              "      border-top-color: var(--fill-color);\n",
              "    }\n",
              "    60% {\n",
              "      border-color: transparent;\n",
              "      border-right-color: var(--fill-color);\n",
              "    }\n",
              "    80% {\n",
              "      border-color: transparent;\n",
              "      border-right-color: var(--fill-color);\n",
              "      border-bottom-color: var(--fill-color);\n",
              "    }\n",
              "    90% {\n",
              "      border-color: transparent;\n",
              "      border-bottom-color: var(--fill-color);\n",
              "    }\n",
              "  }\n",
              "</style>\n",
              "\n",
              "  <script>\n",
              "    async function quickchart(key) {\n",
              "      const quickchartButtonEl =\n",
              "        document.querySelector('#' + key + ' button');\n",
              "      quickchartButtonEl.disabled = true;  // To prevent multiple clicks.\n",
              "      quickchartButtonEl.classList.add('colab-df-spinner');\n",
              "      try {\n",
              "        const charts = await google.colab.kernel.invokeFunction(\n",
              "            'suggestCharts', [key], {});\n",
              "      } catch (error) {\n",
              "        console.error('Error during call to suggestCharts:', error);\n",
              "      }\n",
              "      quickchartButtonEl.classList.remove('colab-df-spinner');\n",
              "      quickchartButtonEl.classList.add('colab-df-quickchart-complete');\n",
              "    }\n",
              "    (() => {\n",
              "      let quickchartButtonEl =\n",
              "        document.querySelector('#df-ab206f71-f930-458c-a671-d38792b656ec button');\n",
              "      quickchartButtonEl.style.display =\n",
              "        google.colab.kernel.accessAllowed ? 'block' : 'none';\n",
              "    })();\n",
              "  </script>\n",
              "</div>\n",
              "\n",
              "  <div id=\"id_a0ea969d-58e5-42ac-a432-1bbc9bf335d9\">\n",
              "    <style>\n",
              "      .colab-df-generate {\n",
              "        background-color: #E8F0FE;\n",
              "        border: none;\n",
              "        border-radius: 50%;\n",
              "        cursor: pointer;\n",
              "        display: none;\n",
              "        fill: #1967D2;\n",
              "        height: 32px;\n",
              "        padding: 0 0 0 0;\n",
              "        width: 32px;\n",
              "      }\n",
              "\n",
              "      .colab-df-generate:hover {\n",
              "        background-color: #E2EBFA;\n",
              "        box-shadow: 0px 1px 2px rgba(60, 64, 67, 0.3), 0px 1px 3px 1px rgba(60, 64, 67, 0.15);\n",
              "        fill: #174EA6;\n",
              "      }\n",
              "\n",
              "      [theme=dark] .colab-df-generate {\n",
              "        background-color: #3B4455;\n",
              "        fill: #D2E3FC;\n",
              "      }\n",
              "\n",
              "      [theme=dark] .colab-df-generate:hover {\n",
              "        background-color: #434B5C;\n",
              "        box-shadow: 0px 1px 3px 1px rgba(0, 0, 0, 0.15);\n",
              "        filter: drop-shadow(0px 1px 2px rgba(0, 0, 0, 0.3));\n",
              "        fill: #FFFFFF;\n",
              "      }\n",
              "    </style>\n",
              "    <button class=\"colab-df-generate\" onclick=\"generateWithVariable('climate_data')\"\n",
              "            title=\"Generate code using this dataframe.\"\n",
              "            style=\"display:none;\">\n",
              "\n",
              "  <svg xmlns=\"http://www.w3.org/2000/svg\" height=\"24px\"viewBox=\"0 0 24 24\"\n",
              "       width=\"24px\">\n",
              "    <path d=\"M7,19H8.4L18.45,9,17,7.55,7,17.6ZM5,21V16.75L18.45,3.32a2,2,0,0,1,2.83,0l1.4,1.43a1.91,1.91,0,0,1,.58,1.4,1.91,1.91,0,0,1-.58,1.4L9.25,21ZM18.45,9,17,7.55Zm-12,3A5.31,5.31,0,0,0,4.9,8.1,5.31,5.31,0,0,0,1,6.5,5.31,5.31,0,0,0,4.9,4.9,5.31,5.31,0,0,0,6.5,1,5.31,5.31,0,0,0,8.1,4.9,5.31,5.31,0,0,0,12,6.5,5.46,5.46,0,0,0,6.5,12Z\"/>\n",
              "  </svg>\n",
              "    </button>\n",
              "    <script>\n",
              "      (() => {\n",
              "      const buttonEl =\n",
              "        document.querySelector('#id_a0ea969d-58e5-42ac-a432-1bbc9bf335d9 button.colab-df-generate');\n",
              "      buttonEl.style.display =\n",
              "        google.colab.kernel.accessAllowed ? 'block' : 'none';\n",
              "\n",
              "      buttonEl.onclick = () => {\n",
              "        google.colab.notebook.generateWithVariable('climate_data');\n",
              "      }\n",
              "      })();\n",
              "    </script>\n",
              "  </div>\n",
              "\n",
              "    </div>\n",
              "  </div>\n"
            ],
            "application/vnd.google.colaboratory.intrinsic+json": {
              "type": "dataframe",
              "variable_name": "climate_data",
              "summary": "{\n  \"name\": \"climate_data\",\n  \"rows\": 43800,\n  \"fields\": [\n    {\n      \"column\": \"Time\",\n      \"properties\": {\n        \"dtype\": \"object\",\n        \"num_unique_values\": 43800,\n        \"samples\": [\n          \"2020-03-17 21:00:00\",\n          \"2019-11-29 18:00:00\",\n          \"2019-04-10 19:00:00\"\n        ],\n        \"semantic_type\": \"\",\n        \"description\": \"\"\n      }\n    },\n    {\n      \"column\": \"temperature_2m\",\n      \"properties\": {\n        \"dtype\": \"number\",\n        \"std\": 19.45369087595701,\n        \"min\": -14.4,\n        \"max\": 94.1,\n        \"num_unique_values\": 989,\n        \"samples\": [\n          22.0,\n          20.8,\n          47.3\n        ],\n        \"semantic_type\": \"\",\n        \"description\": \"\"\n      }\n    },\n    {\n      \"column\": \"relativehumidity_2m\",\n      \"properties\": {\n        \"dtype\": \"number\",\n        \"std\": 16,\n        \"min\": 18,\n        \"max\": 100,\n        \"num_unique_values\": 83,\n        \"samples\": [\n          52,\n          85,\n          62\n        ],\n        \"semantic_type\": \"\",\n        \"description\": \"\"\n      }\n    },\n    {\n      \"column\": \"dewpoint_2m\",\n      \"properties\": {\n        \"dtype\": \"number\",\n        \"std\": 18.77210990052958,\n        \"min\": -17.1,\n        \"max\": 76.3,\n        \"num_unique_values\": 897,\n        \"samples\": [\n          -2.8,\n          57.2,\n          10.0\n        ],\n        \"semantic_type\": \"\",\n        \"description\": \"\"\n      }\n    },\n    {\n      \"column\": \"windspeed_10m\",\n      \"properties\": {\n        \"dtype\": \"number\",\n        \"std\": 1.6493183948967387,\n        \"min\": 0.0,\n        \"max\": 13.45,\n        \"num_unique_values\": 915,\n        \"samples\": [\n          6.38,\n          8.59,\n          3.47\n        ],\n        \"semantic_type\": \"\",\n        \"description\": \"\"\n      }\n    },\n    {\n      \"column\": \"windspeed_100m\",\n      \"properties\": {\n        \"dtype\": \"number\",\n        \"std\": 2.6852157732637596,\n        \"min\": 0.1,\n        \"max\": 20.65,\n        \"num_unique_values\": 1465,\n        \"samples\": [\n          3.07,\n          12.63,\n          1.25\n        ],\n        \"semantic_type\": \"\",\n        \"description\": \"\"\n      }\n    },\n    {\n      \"column\": \"winddirection_10m\",\n      \"properties\": {\n        \"dtype\": \"number\",\n        \"std\": 96,\n        \"min\": 1,\n        \"max\": 360,\n        \"num_unique_values\": 360,\n        \"samples\": [\n          101,\n          272,\n          211\n        ],\n        \"semantic_type\": \"\",\n        \"description\": \"\"\n      }\n    },\n    {\n      \"column\": \"winddirection_100m\",\n      \"properties\": {\n        \"dtype\": \"number\",\n        \"std\": 97,\n        \"min\": 0,\n        \"max\": 360,\n        \"num_unique_values\": 361,\n        \"samples\": [\n          178,\n          329,\n          107\n        ],\n        \"semantic_type\": \"\",\n        \"description\": \"\"\n      }\n    },\n    {\n      \"column\": \"windgusts_10m\",\n      \"properties\": {\n        \"dtype\": \"number\",\n        \"std\": 3.5691471992249766,\n        \"min\": 0.5,\n        \"max\": 29.2,\n        \"num_unique_values\": 243,\n        \"samples\": [\n          6.1,\n          4.7,\n          12.6\n        ],\n        \"semantic_type\": \"\",\n        \"description\": \"\"\n      }\n    },\n    {\n      \"column\": \"Power\",\n      \"properties\": {\n        \"dtype\": \"number\",\n        \"std\": 0.2883224552816716,\n        \"min\": 0.0,\n        \"max\": 0.9913,\n        \"num_unique_values\": 9602,\n        \"samples\": [\n          0.6813,\n          0.2568,\n          0.1056\n        ],\n        \"semantic_type\": \"\",\n        \"description\": \"\"\n      }\n    }\n  ]\n}"
            }
          },
          "metadata": {},
          "execution_count": 57
        }
      ]
    },
    {
      "cell_type": "code",
      "source": [
        "data.isnull().sum()"
      ],
      "metadata": {
        "colab": {
          "base_uri": "https://localhost:8080/"
        },
        "id": "pO9d1_ngvx8B",
        "outputId": "50c7ed2c-26eb-465a-872d-6f919c1b34ee"
      },
      "execution_count": null,
      "outputs": [
        {
          "output_type": "execute_result",
          "data": {
            "text/plain": [
              "Time                   0\n",
              "temperature_2m         0\n",
              "relativehumidity_2m    0\n",
              "dewpoint_2m            0\n",
              "windspeed_10m          0\n",
              "windspeed_100m         0\n",
              "winddirection_10m      0\n",
              "winddirection_100m     0\n",
              "windgusts_10m          0\n",
              "Power                  0\n",
              "dtype: int64"
            ]
          },
          "metadata": {},
          "execution_count": 58
        }
      ]
    },
    {
      "cell_type": "code",
      "source": [
        "data = data.drop(\"Time\",axis=1)"
      ],
      "metadata": {
        "id": "SS5yZstjvx-d"
      },
      "execution_count": null,
      "outputs": []
    },
    {
      "cell_type": "code",
      "source": [
        "data = data.drop(\"windspeed_100m\",axis=1)"
      ],
      "metadata": {
        "id": "LeQ1tTe9vyGx"
      },
      "execution_count": null,
      "outputs": []
    },
    {
      "cell_type": "code",
      "source": [
        "data = data.drop(\"winddirection_100m\",axis=1)"
      ],
      "metadata": {
        "id": "Qx4-KOa_vyJP"
      },
      "execution_count": null,
      "outputs": []
    },
    {
      "cell_type": "code",
      "source": [
        "data.isnull().sum()"
      ],
      "metadata": {
        "colab": {
          "base_uri": "https://localhost:8080/"
        },
        "id": "w13xeoNxg9ul",
        "outputId": "7d58543b-9053-4789-e4a0-8c5f9cf60fc5"
      },
      "execution_count": null,
      "outputs": [
        {
          "output_type": "execute_result",
          "data": {
            "text/plain": [
              "temperature_2m         0\n",
              "relativehumidity_2m    0\n",
              "dewpoint_2m            0\n",
              "windspeed_10m          0\n",
              "winddirection_10m      0\n",
              "windgusts_10m          0\n",
              "Power                  0\n",
              "dtype: int64"
            ]
          },
          "metadata": {},
          "execution_count": 62
        }
      ]
    },
    {
      "cell_type": "code",
      "source": [
        "data = data.dropna()"
      ],
      "metadata": {
        "id": "ZwPkkRn_jCr8"
      },
      "execution_count": null,
      "outputs": []
    },
    {
      "cell_type": "code",
      "source": [
        "data.isnull().sum()"
      ],
      "metadata": {
        "colab": {
          "base_uri": "https://localhost:8080/"
        },
        "id": "mM1lGHBYjyUp",
        "outputId": "8af78b30-9c79-4db1-e6b4-1d3b82fcfd7a"
      },
      "execution_count": null,
      "outputs": [
        {
          "output_type": "execute_result",
          "data": {
            "text/plain": [
              "temperature_2m         0\n",
              "relativehumidity_2m    0\n",
              "dewpoint_2m            0\n",
              "windspeed_10m          0\n",
              "winddirection_10m      0\n",
              "windgusts_10m          0\n",
              "Power                  0\n",
              "dtype: int64"
            ]
          },
          "metadata": {},
          "execution_count": 64
        }
      ]
    },
    {
      "cell_type": "code",
      "source": [
        "data"
      ],
      "metadata": {
        "colab": {
          "base_uri": "https://localhost:8080/",
          "height": 423
        },
        "id": "NTl6knWsw67G",
        "outputId": "eb988aad-bf41-4b63-e628-13317b156a34"
      },
      "execution_count": null,
      "outputs": [
        {
          "output_type": "execute_result",
          "data": {
            "text/plain": [
              "       temperature_2m  relativehumidity_2m  dewpoint_2m  windspeed_10m  \\\n",
              "0                28.5                   85         24.5           1.44   \n",
              "1                28.4                   86         24.7           2.06   \n",
              "2                26.8                   91         24.5           1.30   \n",
              "3                27.4                   88         24.3           1.30   \n",
              "4                27.3                   88         24.1           2.47   \n",
              "...               ...                  ...          ...            ...   \n",
              "43795            34.1                   94         32.5           1.00   \n",
              "43796            34.8                   94         33.4           2.52   \n",
              "43797            34.1                   95         33.0           1.10   \n",
              "43798            34.4                   96         33.5           2.40   \n",
              "43799            35.0                   97         34.2           2.26   \n",
              "\n",
              "       winddirection_10m  windgusts_10m   Power  \n",
              "0                    146            1.4  0.1635  \n",
              "1                    151            4.4  0.1424  \n",
              "2                    148            3.2  0.1214  \n",
              "3                     58            1.6  0.1003  \n",
              "4                     58            4.0  0.0793  \n",
              "...                  ...            ...     ...  \n",
              "43795                 53            2.5  0.1796  \n",
              "43796                 56            4.8  0.2066  \n",
              "43797                360            4.3  0.2336  \n",
              "43798                 45            4.2  0.2606  \n",
              "43799                 45            4.3  0.2877  \n",
              "\n",
              "[43800 rows x 7 columns]"
            ],
            "text/html": [
              "\n",
              "  <div id=\"df-eb898f63-f163-4a06-bb86-294d104f8a06\" class=\"colab-df-container\">\n",
              "    <div>\n",
              "<style scoped>\n",
              "    .dataframe tbody tr th:only-of-type {\n",
              "        vertical-align: middle;\n",
              "    }\n",
              "\n",
              "    .dataframe tbody tr th {\n",
              "        vertical-align: top;\n",
              "    }\n",
              "\n",
              "    .dataframe thead th {\n",
              "        text-align: right;\n",
              "    }\n",
              "</style>\n",
              "<table border=\"1\" class=\"dataframe\">\n",
              "  <thead>\n",
              "    <tr style=\"text-align: right;\">\n",
              "      <th></th>\n",
              "      <th>temperature_2m</th>\n",
              "      <th>relativehumidity_2m</th>\n",
              "      <th>dewpoint_2m</th>\n",
              "      <th>windspeed_10m</th>\n",
              "      <th>winddirection_10m</th>\n",
              "      <th>windgusts_10m</th>\n",
              "      <th>Power</th>\n",
              "    </tr>\n",
              "  </thead>\n",
              "  <tbody>\n",
              "    <tr>\n",
              "      <th>0</th>\n",
              "      <td>28.5</td>\n",
              "      <td>85</td>\n",
              "      <td>24.5</td>\n",
              "      <td>1.44</td>\n",
              "      <td>146</td>\n",
              "      <td>1.4</td>\n",
              "      <td>0.1635</td>\n",
              "    </tr>\n",
              "    <tr>\n",
              "      <th>1</th>\n",
              "      <td>28.4</td>\n",
              "      <td>86</td>\n",
              "      <td>24.7</td>\n",
              "      <td>2.06</td>\n",
              "      <td>151</td>\n",
              "      <td>4.4</td>\n",
              "      <td>0.1424</td>\n",
              "    </tr>\n",
              "    <tr>\n",
              "      <th>2</th>\n",
              "      <td>26.8</td>\n",
              "      <td>91</td>\n",
              "      <td>24.5</td>\n",
              "      <td>1.30</td>\n",
              "      <td>148</td>\n",
              "      <td>3.2</td>\n",
              "      <td>0.1214</td>\n",
              "    </tr>\n",
              "    <tr>\n",
              "      <th>3</th>\n",
              "      <td>27.4</td>\n",
              "      <td>88</td>\n",
              "      <td>24.3</td>\n",
              "      <td>1.30</td>\n",
              "      <td>58</td>\n",
              "      <td>1.6</td>\n",
              "      <td>0.1003</td>\n",
              "    </tr>\n",
              "    <tr>\n",
              "      <th>4</th>\n",
              "      <td>27.3</td>\n",
              "      <td>88</td>\n",
              "      <td>24.1</td>\n",
              "      <td>2.47</td>\n",
              "      <td>58</td>\n",
              "      <td>4.0</td>\n",
              "      <td>0.0793</td>\n",
              "    </tr>\n",
              "    <tr>\n",
              "      <th>...</th>\n",
              "      <td>...</td>\n",
              "      <td>...</td>\n",
              "      <td>...</td>\n",
              "      <td>...</td>\n",
              "      <td>...</td>\n",
              "      <td>...</td>\n",
              "      <td>...</td>\n",
              "    </tr>\n",
              "    <tr>\n",
              "      <th>43795</th>\n",
              "      <td>34.1</td>\n",
              "      <td>94</td>\n",
              "      <td>32.5</td>\n",
              "      <td>1.00</td>\n",
              "      <td>53</td>\n",
              "      <td>2.5</td>\n",
              "      <td>0.1796</td>\n",
              "    </tr>\n",
              "    <tr>\n",
              "      <th>43796</th>\n",
              "      <td>34.8</td>\n",
              "      <td>94</td>\n",
              "      <td>33.4</td>\n",
              "      <td>2.52</td>\n",
              "      <td>56</td>\n",
              "      <td>4.8</td>\n",
              "      <td>0.2066</td>\n",
              "    </tr>\n",
              "    <tr>\n",
              "      <th>43797</th>\n",
              "      <td>34.1</td>\n",
              "      <td>95</td>\n",
              "      <td>33.0</td>\n",
              "      <td>1.10</td>\n",
              "      <td>360</td>\n",
              "      <td>4.3</td>\n",
              "      <td>0.2336</td>\n",
              "    </tr>\n",
              "    <tr>\n",
              "      <th>43798</th>\n",
              "      <td>34.4</td>\n",
              "      <td>96</td>\n",
              "      <td>33.5</td>\n",
              "      <td>2.40</td>\n",
              "      <td>45</td>\n",
              "      <td>4.2</td>\n",
              "      <td>0.2606</td>\n",
              "    </tr>\n",
              "    <tr>\n",
              "      <th>43799</th>\n",
              "      <td>35.0</td>\n",
              "      <td>97</td>\n",
              "      <td>34.2</td>\n",
              "      <td>2.26</td>\n",
              "      <td>45</td>\n",
              "      <td>4.3</td>\n",
              "      <td>0.2877</td>\n",
              "    </tr>\n",
              "  </tbody>\n",
              "</table>\n",
              "<p>43800 rows × 7 columns</p>\n",
              "</div>\n",
              "    <div class=\"colab-df-buttons\">\n",
              "\n",
              "  <div class=\"colab-df-container\">\n",
              "    <button class=\"colab-df-convert\" onclick=\"convertToInteractive('df-eb898f63-f163-4a06-bb86-294d104f8a06')\"\n",
              "            title=\"Convert this dataframe to an interactive table.\"\n",
              "            style=\"display:none;\">\n",
              "\n",
              "  <svg xmlns=\"http://www.w3.org/2000/svg\" height=\"24px\" viewBox=\"0 -960 960 960\">\n",
              "    <path d=\"M120-120v-720h720v720H120Zm60-500h600v-160H180v160Zm220 220h160v-160H400v160Zm0 220h160v-160H400v160ZM180-400h160v-160H180v160Zm440 0h160v-160H620v160ZM180-180h160v-160H180v160Zm440 0h160v-160H620v160Z\"/>\n",
              "  </svg>\n",
              "    </button>\n",
              "\n",
              "  <style>\n",
              "    .colab-df-container {\n",
              "      display:flex;\n",
              "      gap: 12px;\n",
              "    }\n",
              "\n",
              "    .colab-df-convert {\n",
              "      background-color: #E8F0FE;\n",
              "      border: none;\n",
              "      border-radius: 50%;\n",
              "      cursor: pointer;\n",
              "      display: none;\n",
              "      fill: #1967D2;\n",
              "      height: 32px;\n",
              "      padding: 0 0 0 0;\n",
              "      width: 32px;\n",
              "    }\n",
              "\n",
              "    .colab-df-convert:hover {\n",
              "      background-color: #E2EBFA;\n",
              "      box-shadow: 0px 1px 2px rgba(60, 64, 67, 0.3), 0px 1px 3px 1px rgba(60, 64, 67, 0.15);\n",
              "      fill: #174EA6;\n",
              "    }\n",
              "\n",
              "    .colab-df-buttons div {\n",
              "      margin-bottom: 4px;\n",
              "    }\n",
              "\n",
              "    [theme=dark] .colab-df-convert {\n",
              "      background-color: #3B4455;\n",
              "      fill: #D2E3FC;\n",
              "    }\n",
              "\n",
              "    [theme=dark] .colab-df-convert:hover {\n",
              "      background-color: #434B5C;\n",
              "      box-shadow: 0px 1px 3px 1px rgba(0, 0, 0, 0.15);\n",
              "      filter: drop-shadow(0px 1px 2px rgba(0, 0, 0, 0.3));\n",
              "      fill: #FFFFFF;\n",
              "    }\n",
              "  </style>\n",
              "\n",
              "    <script>\n",
              "      const buttonEl =\n",
              "        document.querySelector('#df-eb898f63-f163-4a06-bb86-294d104f8a06 button.colab-df-convert');\n",
              "      buttonEl.style.display =\n",
              "        google.colab.kernel.accessAllowed ? 'block' : 'none';\n",
              "\n",
              "      async function convertToInteractive(key) {\n",
              "        const element = document.querySelector('#df-eb898f63-f163-4a06-bb86-294d104f8a06');\n",
              "        const dataTable =\n",
              "          await google.colab.kernel.invokeFunction('convertToInteractive',\n",
              "                                                    [key], {});\n",
              "        if (!dataTable) return;\n",
              "\n",
              "        const docLinkHtml = 'Like what you see? Visit the ' +\n",
              "          '<a target=\"_blank\" href=https://colab.research.google.com/notebooks/data_table.ipynb>data table notebook</a>'\n",
              "          + ' to learn more about interactive tables.';\n",
              "        element.innerHTML = '';\n",
              "        dataTable['output_type'] = 'display_data';\n",
              "        await google.colab.output.renderOutput(dataTable, element);\n",
              "        const docLink = document.createElement('div');\n",
              "        docLink.innerHTML = docLinkHtml;\n",
              "        element.appendChild(docLink);\n",
              "      }\n",
              "    </script>\n",
              "  </div>\n",
              "\n",
              "\n",
              "<div id=\"df-f8f4bed7-ee9d-4d60-83b0-bf3a1f6f6369\">\n",
              "  <button class=\"colab-df-quickchart\" onclick=\"quickchart('df-f8f4bed7-ee9d-4d60-83b0-bf3a1f6f6369')\"\n",
              "            title=\"Suggest charts\"\n",
              "            style=\"display:none;\">\n",
              "\n",
              "<svg xmlns=\"http://www.w3.org/2000/svg\" height=\"24px\"viewBox=\"0 0 24 24\"\n",
              "     width=\"24px\">\n",
              "    <g>\n",
              "        <path d=\"M19 3H5c-1.1 0-2 .9-2 2v14c0 1.1.9 2 2 2h14c1.1 0 2-.9 2-2V5c0-1.1-.9-2-2-2zM9 17H7v-7h2v7zm4 0h-2V7h2v10zm4 0h-2v-4h2v4z\"/>\n",
              "    </g>\n",
              "</svg>\n",
              "  </button>\n",
              "\n",
              "<style>\n",
              "  .colab-df-quickchart {\n",
              "      --bg-color: #E8F0FE;\n",
              "      --fill-color: #1967D2;\n",
              "      --hover-bg-color: #E2EBFA;\n",
              "      --hover-fill-color: #174EA6;\n",
              "      --disabled-fill-color: #AAA;\n",
              "      --disabled-bg-color: #DDD;\n",
              "  }\n",
              "\n",
              "  [theme=dark] .colab-df-quickchart {\n",
              "      --bg-color: #3B4455;\n",
              "      --fill-color: #D2E3FC;\n",
              "      --hover-bg-color: #434B5C;\n",
              "      --hover-fill-color: #FFFFFF;\n",
              "      --disabled-bg-color: #3B4455;\n",
              "      --disabled-fill-color: #666;\n",
              "  }\n",
              "\n",
              "  .colab-df-quickchart {\n",
              "    background-color: var(--bg-color);\n",
              "    border: none;\n",
              "    border-radius: 50%;\n",
              "    cursor: pointer;\n",
              "    display: none;\n",
              "    fill: var(--fill-color);\n",
              "    height: 32px;\n",
              "    padding: 0;\n",
              "    width: 32px;\n",
              "  }\n",
              "\n",
              "  .colab-df-quickchart:hover {\n",
              "    background-color: var(--hover-bg-color);\n",
              "    box-shadow: 0 1px 2px rgba(60, 64, 67, 0.3), 0 1px 3px 1px rgba(60, 64, 67, 0.15);\n",
              "    fill: var(--button-hover-fill-color);\n",
              "  }\n",
              "\n",
              "  .colab-df-quickchart-complete:disabled,\n",
              "  .colab-df-quickchart-complete:disabled:hover {\n",
              "    background-color: var(--disabled-bg-color);\n",
              "    fill: var(--disabled-fill-color);\n",
              "    box-shadow: none;\n",
              "  }\n",
              "\n",
              "  .colab-df-spinner {\n",
              "    border: 2px solid var(--fill-color);\n",
              "    border-color: transparent;\n",
              "    border-bottom-color: var(--fill-color);\n",
              "    animation:\n",
              "      spin 1s steps(1) infinite;\n",
              "  }\n",
              "\n",
              "  @keyframes spin {\n",
              "    0% {\n",
              "      border-color: transparent;\n",
              "      border-bottom-color: var(--fill-color);\n",
              "      border-left-color: var(--fill-color);\n",
              "    }\n",
              "    20% {\n",
              "      border-color: transparent;\n",
              "      border-left-color: var(--fill-color);\n",
              "      border-top-color: var(--fill-color);\n",
              "    }\n",
              "    30% {\n",
              "      border-color: transparent;\n",
              "      border-left-color: var(--fill-color);\n",
              "      border-top-color: var(--fill-color);\n",
              "      border-right-color: var(--fill-color);\n",
              "    }\n",
              "    40% {\n",
              "      border-color: transparent;\n",
              "      border-right-color: var(--fill-color);\n",
              "      border-top-color: var(--fill-color);\n",
              "    }\n",
              "    60% {\n",
              "      border-color: transparent;\n",
              "      border-right-color: var(--fill-color);\n",
              "    }\n",
              "    80% {\n",
              "      border-color: transparent;\n",
              "      border-right-color: var(--fill-color);\n",
              "      border-bottom-color: var(--fill-color);\n",
              "    }\n",
              "    90% {\n",
              "      border-color: transparent;\n",
              "      border-bottom-color: var(--fill-color);\n",
              "    }\n",
              "  }\n",
              "</style>\n",
              "\n",
              "  <script>\n",
              "    async function quickchart(key) {\n",
              "      const quickchartButtonEl =\n",
              "        document.querySelector('#' + key + ' button');\n",
              "      quickchartButtonEl.disabled = true;  // To prevent multiple clicks.\n",
              "      quickchartButtonEl.classList.add('colab-df-spinner');\n",
              "      try {\n",
              "        const charts = await google.colab.kernel.invokeFunction(\n",
              "            'suggestCharts', [key], {});\n",
              "      } catch (error) {\n",
              "        console.error('Error during call to suggestCharts:', error);\n",
              "      }\n",
              "      quickchartButtonEl.classList.remove('colab-df-spinner');\n",
              "      quickchartButtonEl.classList.add('colab-df-quickchart-complete');\n",
              "    }\n",
              "    (() => {\n",
              "      let quickchartButtonEl =\n",
              "        document.querySelector('#df-f8f4bed7-ee9d-4d60-83b0-bf3a1f6f6369 button');\n",
              "      quickchartButtonEl.style.display =\n",
              "        google.colab.kernel.accessAllowed ? 'block' : 'none';\n",
              "    })();\n",
              "  </script>\n",
              "</div>\n",
              "\n",
              "  <div id=\"id_2e5f15d1-692b-4a5e-8efc-bed021457188\">\n",
              "    <style>\n",
              "      .colab-df-generate {\n",
              "        background-color: #E8F0FE;\n",
              "        border: none;\n",
              "        border-radius: 50%;\n",
              "        cursor: pointer;\n",
              "        display: none;\n",
              "        fill: #1967D2;\n",
              "        height: 32px;\n",
              "        padding: 0 0 0 0;\n",
              "        width: 32px;\n",
              "      }\n",
              "\n",
              "      .colab-df-generate:hover {\n",
              "        background-color: #E2EBFA;\n",
              "        box-shadow: 0px 1px 2px rgba(60, 64, 67, 0.3), 0px 1px 3px 1px rgba(60, 64, 67, 0.15);\n",
              "        fill: #174EA6;\n",
              "      }\n",
              "\n",
              "      [theme=dark] .colab-df-generate {\n",
              "        background-color: #3B4455;\n",
              "        fill: #D2E3FC;\n",
              "      }\n",
              "\n",
              "      [theme=dark] .colab-df-generate:hover {\n",
              "        background-color: #434B5C;\n",
              "        box-shadow: 0px 1px 3px 1px rgba(0, 0, 0, 0.15);\n",
              "        filter: drop-shadow(0px 1px 2px rgba(0, 0, 0, 0.3));\n",
              "        fill: #FFFFFF;\n",
              "      }\n",
              "    </style>\n",
              "    <button class=\"colab-df-generate\" onclick=\"generateWithVariable('climate_data')\"\n",
              "            title=\"Generate code using this dataframe.\"\n",
              "            style=\"display:none;\">\n",
              "\n",
              "  <svg xmlns=\"http://www.w3.org/2000/svg\" height=\"24px\"viewBox=\"0 0 24 24\"\n",
              "       width=\"24px\">\n",
              "    <path d=\"M7,19H8.4L18.45,9,17,7.55,7,17.6ZM5,21V16.75L18.45,3.32a2,2,0,0,1,2.83,0l1.4,1.43a1.91,1.91,0,0,1,.58,1.4,1.91,1.91,0,0,1-.58,1.4L9.25,21ZM18.45,9,17,7.55Zm-12,3A5.31,5.31,0,0,0,4.9,8.1,5.31,5.31,0,0,0,1,6.5,5.31,5.31,0,0,0,4.9,4.9,5.31,5.31,0,0,0,6.5,1,5.31,5.31,0,0,0,8.1,4.9,5.31,5.31,0,0,0,12,6.5,5.46,5.46,0,0,0,6.5,12Z\"/>\n",
              "  </svg>\n",
              "    </button>\n",
              "    <script>\n",
              "      (() => {\n",
              "      const buttonEl =\n",
              "        document.querySelector('#id_2e5f15d1-692b-4a5e-8efc-bed021457188 button.colab-df-generate');\n",
              "      buttonEl.style.display =\n",
              "        google.colab.kernel.accessAllowed ? 'block' : 'none';\n",
              "\n",
              "      buttonEl.onclick = () => {\n",
              "        google.colab.notebook.generateWithVariable('climate_data');\n",
              "      }\n",
              "      })();\n",
              "    </script>\n",
              "  </div>\n",
              "\n",
              "    </div>\n",
              "  </div>\n"
            ],
            "application/vnd.google.colaboratory.intrinsic+json": {
              "type": "dataframe",
              "variable_name": "climate_data",
              "summary": "{\n  \"name\": \"climate_data\",\n  \"rows\": 43800,\n  \"fields\": [\n    {\n      \"column\": \"temperature_2m\",\n      \"properties\": {\n        \"dtype\": \"number\",\n        \"std\": 19.45369087595701,\n        \"min\": -14.4,\n        \"max\": 94.1,\n        \"num_unique_values\": 989,\n        \"samples\": [\n          22.0,\n          20.8,\n          47.3\n        ],\n        \"semantic_type\": \"\",\n        \"description\": \"\"\n      }\n    },\n    {\n      \"column\": \"relativehumidity_2m\",\n      \"properties\": {\n        \"dtype\": \"number\",\n        \"std\": 16,\n        \"min\": 18,\n        \"max\": 100,\n        \"num_unique_values\": 83,\n        \"samples\": [\n          52,\n          85,\n          62\n        ],\n        \"semantic_type\": \"\",\n        \"description\": \"\"\n      }\n    },\n    {\n      \"column\": \"dewpoint_2m\",\n      \"properties\": {\n        \"dtype\": \"number\",\n        \"std\": 18.77210990052958,\n        \"min\": -17.1,\n        \"max\": 76.3,\n        \"num_unique_values\": 897,\n        \"samples\": [\n          -2.8,\n          57.2,\n          10.0\n        ],\n        \"semantic_type\": \"\",\n        \"description\": \"\"\n      }\n    },\n    {\n      \"column\": \"windspeed_10m\",\n      \"properties\": {\n        \"dtype\": \"number\",\n        \"std\": 1.6493183948967387,\n        \"min\": 0.0,\n        \"max\": 13.45,\n        \"num_unique_values\": 915,\n        \"samples\": [\n          6.38,\n          8.59,\n          3.47\n        ],\n        \"semantic_type\": \"\",\n        \"description\": \"\"\n      }\n    },\n    {\n      \"column\": \"winddirection_10m\",\n      \"properties\": {\n        \"dtype\": \"number\",\n        \"std\": 96,\n        \"min\": 1,\n        \"max\": 360,\n        \"num_unique_values\": 360,\n        \"samples\": [\n          101,\n          272,\n          211\n        ],\n        \"semantic_type\": \"\",\n        \"description\": \"\"\n      }\n    },\n    {\n      \"column\": \"windgusts_10m\",\n      \"properties\": {\n        \"dtype\": \"number\",\n        \"std\": 3.5691471992249766,\n        \"min\": 0.5,\n        \"max\": 29.2,\n        \"num_unique_values\": 243,\n        \"samples\": [\n          6.1,\n          4.7,\n          12.6\n        ],\n        \"semantic_type\": \"\",\n        \"description\": \"\"\n      }\n    },\n    {\n      \"column\": \"Power\",\n      \"properties\": {\n        \"dtype\": \"number\",\n        \"std\": 0.2883224552816716,\n        \"min\": 0.0,\n        \"max\": 0.9913,\n        \"num_unique_values\": 9602,\n        \"samples\": [\n          0.6813,\n          0.2568,\n          0.1056\n        ],\n        \"semantic_type\": \"\",\n        \"description\": \"\"\n      }\n    }\n  ]\n}"
            }
          },
          "metadata": {},
          "execution_count": 65
        }
      ]
    },
    {
      "cell_type": "code",
      "source": [
        "sbn.distplot(data[\"Power\"])"
      ],
      "metadata": {
        "colab": {
          "base_uri": "https://localhost:8080/",
          "height": 657
        },
        "id": "XHclX3FxxKB7",
        "outputId": "6708bdab-87c8-4e9d-b9a6-70fbaccabac6"
      },
      "execution_count": null,
      "outputs": [
        {
          "output_type": "stream",
          "name": "stderr",
          "text": [
            "<ipython-input-66-adc8279d8e80>:1: UserWarning: \n",
            "\n",
            "`distplot` is a deprecated function and will be removed in seaborn v0.14.0.\n",
            "\n",
            "Please adapt your code to use either `displot` (a figure-level function with\n",
            "similar flexibility) or `histplot` (an axes-level function for histograms).\n",
            "\n",
            "For a guide to updating your code to use the new functions, please see\n",
            "https://gist.github.com/mwaskom/de44147ed2974457ad6372750bbe5751\n",
            "\n",
            "  sbn.distplot(climate_data[\"Power\"])\n"
          ]
        },
        {
          "output_type": "execute_result",
          "data": {
            "text/plain": [
              "<Axes: xlabel='Power', ylabel='Density'>"
            ]
          },
          "metadata": {},
          "execution_count": 66
        },
        {
          "output_type": "display_data",
          "data": {
            "text/plain": [
              "<Figure size 640x480 with 1 Axes>"
            ],
            "image/png": "[encoded data removed]"
          },
          "metadata": {}
        }
      ]
    },
    {
      "cell_type": "code",
      "source": [
        "y = data[\"Power\"].values\n",
        "x = data.drop(\"Power\",axis=1).values"
      ],
      "metadata": {
        "id": "CC-AoGhGxSVA"
      },
      "execution_count": null,
      "outputs": []
    },
    {
      "cell_type": "code",
      "source": [
        "from sklearn.model_selection import train_test_split"
      ],
      "metadata": {
        "id": "7er9GrW7xSXY"
      },
      "execution_count": null,
      "outputs": []
    },
    {
      "cell_type": "code",
      "source": [
        "x_train,x_test,y_train,y_test = train_test_split(x,y,test_size=0.33,random_state=15)"
      ],
      "metadata": {
        "id": "uNW71FhSxScH"
      },
      "execution_count": null,
      "outputs": []
    },
    {
      "cell_type": "code",
      "source": [
        "from sklearn.preprocessing import MinMaxScaler"
      ],
      "metadata": {
        "id": "mm5IvIwPxSeU"
      },
      "execution_count": null,
      "outputs": []
    },
    {
      "cell_type": "code",
      "source": [
        "scaler = MinMaxScaler()"
      ],
      "metadata": {
        "id": "cnt8L3tkx40H"
      },
      "execution_count": null,
      "outputs": []
    },
    {
      "cell_type": "code",
      "source": [
        "x_train = scaler.fit_transform(x_train)\n",
        "x_test = scaler.transform(x_test)"
      ],
      "metadata": {
        "id": "vvHXQ9V0x42d"
      },
      "execution_count": null,
      "outputs": []
    },
    {
      "cell_type": "code",
      "source": [
        "from tensorflow.keras.models import Sequential\n",
        "from tensorflow.keras.layers import Dense"
      ],
      "metadata": {
        "id": "k8LZc318x443"
      },
      "execution_count": null,
      "outputs": []
    },
    {
      "cell_type": "code",
      "source": [
        "model = Sequential()\n",
        "\n",
        "model.add(Dense(5,activation = \"relu\"))\n",
        "model.add(Dense(5,activation = \"relu\"))\n",
        "model.add(Dense(5,activation = \"relu\"))\n",
        "model.add(Dense(5,activation = \"relu\"))\n",
        "model.add(Dense(5,activation = \"relu\"))\n",
        "model.add(Dense(5,activation = \"relu\"))\n",
        "\n",
        "\n",
        "model.add(Dense(1))\n",
        "\n",
        "model.compile(optimizer=\"adam\",loss=\"mse\")"
      ],
      "metadata": {
        "id": "iTFC4Skbx47i"
      },
      "execution_count": null,
      "outputs": []
    },
    {
      "cell_type": "code",
      "source": [
        "model.fit(x= x_train,y= y_train,validation_data=(x_test,y_test),batch_size=16,epochs=200)"
      ],
      "metadata": {
        "colab": {
          "base_uri": "https://localhost:8080/"
        },
        "id": "Z9lkyf_Tx4-U",
        "outputId": "3d16885b-d392-429f-c5b8-646caa3553dc"
      },
      "execution_count": null,
      "outputs": [
        {
          "output_type": "stream",
          "name": "stdout",
          "text": [
            "Epoch 1/200\n",
            "1835/1835 [==============================] - 4s 2ms/step - loss: 0.0471 - val_loss: 0.0346\n",
            "Epoch 2/200\n",
            "1835/1835 [==============================] - 4s 2ms/step - loss: 0.0349 - val_loss: 0.0340\n",
            "Epoch 3/200\n",
            "1835/1835 [==============================] - 3s 2ms/step - loss: 0.0343 - val_loss: 0.0335\n",
            "Epoch 4/200\n",
            "1835/1835 [==============================] - 4s 2ms/step - loss: 0.0340 - val_loss: 0.0330\n",
            "Epoch 5/200\n",
            "1835/1835 [==============================] - 3s 2ms/step - loss: 0.0338 - val_loss: 0.0329\n",
            "Epoch 6/200\n",
            "1835/1835 [==============================] - 3s 2ms/step - loss: 0.0337 - val_loss: 0.0333\n",
            "Epoch 7/200\n",
            "1835/1835 [==============================] - 4s 2ms/step - loss: 0.0336 - val_loss: 0.0327\n",
            "Epoch 8/200\n",
            "1835/1835 [==============================] - 3s 2ms/step - loss: 0.0335 - val_loss: 0.0329\n",
            "Epoch 9/200\n",
            "1835/1835 [==============================] - 3s 2ms/step - loss: 0.0334 - val_loss: 0.0332\n",
            "Epoch 10/200\n",
            "1835/1835 [==============================] - 3s 2ms/step - loss: 0.0334 - val_loss: 0.0336\n",
            "Epoch 11/200\n",
            "1835/1835 [==============================] - 4s 2ms/step - loss: 0.0332 - val_loss: 0.0327\n",
            "Epoch 12/200\n",
            "1835/1835 [==============================] - 4s 2ms/step - loss: 0.0332 - val_loss: 0.0325\n",
            "Epoch 13/200\n",
            "1835/1835 [==============================] - 3s 2ms/step - loss: 0.0332 - val_loss: 0.0338\n",
            "Epoch 14/200\n",
            "1835/1835 [==============================] - 4s 2ms/step - loss: 0.0331 - val_loss: 0.0324\n",
            "Epoch 15/200\n",
            "1835/1835 [==============================] - 4s 2ms/step - loss: 0.0331 - val_loss: 0.0324\n",
            "Epoch 16/200\n",
            "1835/1835 [==============================] - 3s 2ms/step - loss: 0.0329 - val_loss: 0.0325\n",
            "Epoch 17/200\n",
            "1835/1835 [==============================] - 3s 2ms/step - loss: 0.0329 - val_loss: 0.0322\n",
            "Epoch 18/200\n",
            "1835/1835 [==============================] - 3s 2ms/step - loss: 0.0327 - val_loss: 0.0323\n",
            "Epoch 19/200\n",
            "1835/1835 [==============================] - 4s 2ms/step - loss: 0.0327 - val_loss: 0.0323\n",
            "Epoch 20/200\n",
            "1835/1835 [==============================] - 3s 2ms/step - loss: 0.0325 - val_loss: 0.0318\n",
            "Epoch 21/200\n",
            "1835/1835 [==============================] - 4s 2ms/step - loss: 0.0325 - val_loss: 0.0318\n",
            "Epoch 22/200\n",
            "1835/1835 [==============================] - 3s 2ms/step - loss: 0.0324 - val_loss: 0.0316\n",
            "Epoch 23/200\n",
            "1835/1835 [==============================] - 3s 2ms/step - loss: 0.0323 - val_loss: 0.0317\n",
            "Epoch 24/200\n",
            "1835/1835 [==============================] - 3s 2ms/step - loss: 0.0323 - val_loss: 0.0319\n",
            "Epoch 25/200\n",
            "1835/1835 [==============================] - 4s 2ms/step - loss: 0.0323 - val_loss: 0.0318\n",
            "Epoch 26/200\n",
            "1835/1835 [==============================] - 4s 2ms/step - loss: 0.0323 - val_loss: 0.0330\n",
            "Epoch 27/200\n",
            "1835/1835 [==============================] - 4s 2ms/step - loss: 0.0322 - val_loss: 0.0315\n",
            "Epoch 28/200\n",
            "1835/1835 [==============================] - 3s 2ms/step - loss: 0.0322 - val_loss: 0.0322\n",
            "Epoch 29/200\n",
            "1835/1835 [==============================] - 3s 2ms/step - loss: 0.0322 - val_loss: 0.0318\n",
            "Epoch 30/200\n",
            "1835/1835 [==============================] - 3s 2ms/step - loss: 0.0322 - val_loss: 0.0318\n",
            "Epoch 31/200\n",
            "1835/1835 [==============================] - 3s 2ms/step - loss: 0.0322 - val_loss: 0.0317\n",
            "Epoch 32/200\n",
            "1835/1835 [==============================] - 4s 2ms/step - loss: 0.0322 - val_loss: 0.0316\n",
            "Epoch 33/200\n",
            "1835/1835 [==============================] - 4s 2ms/step - loss: 0.0322 - val_loss: 0.0319\n",
            "Epoch 34/200\n",
            "1835/1835 [==============================] - 3s 2ms/step - loss: 0.0322 - val_loss: 0.0316\n",
            "Epoch 35/200\n",
            "1835/1835 [==============================] - 3s 2ms/step - loss: 0.0322 - val_loss: 0.0317\n",
            "Epoch 36/200\n",
            "1835/1835 [==============================] - 4s 2ms/step - loss: 0.0321 - val_loss: 0.0315\n",
            "Epoch 37/200\n",
            "1835/1835 [==============================] - 4s 2ms/step - loss: 0.0322 - val_loss: 0.0318\n",
            "Epoch 38/200\n",
            "1835/1835 [==============================] - 3s 2ms/step - loss: 0.0321 - val_loss: 0.0315\n",
            "Epoch 39/200\n",
            "1835/1835 [==============================] - 3s 2ms/step - loss: 0.0322 - val_loss: 0.0316\n",
            "Epoch 40/200\n",
            "1835/1835 [==============================] - 3s 2ms/step - loss: 0.0321 - val_loss: 0.0316\n",
            "Epoch 41/200\n",
            "1835/1835 [==============================] - 4s 2ms/step - loss: 0.0321 - val_loss: 0.0314\n",
            "Epoch 42/200\n",
            "1835/1835 [==============================] - 3s 2ms/step - loss: 0.0320 - val_loss: 0.0315\n",
            "Epoch 43/200\n",
            "1835/1835 [==============================] - 3s 2ms/step - loss: 0.0321 - val_loss: 0.0315\n",
            "Epoch 44/200\n",
            "1835/1835 [==============================] - 4s 2ms/step - loss: 0.0320 - val_loss: 0.0313\n",
            "Epoch 45/200\n",
            "1835/1835 [==============================] - 3s 2ms/step - loss: 0.0320 - val_loss: 0.0313\n",
            "Epoch 46/200\n",
            "1835/1835 [==============================] - 4s 2ms/step - loss: 0.0319 - val_loss: 0.0323\n",
            "Epoch 47/200\n",
            "1835/1835 [==============================] - 3s 2ms/step - loss: 0.0320 - val_loss: 0.0316\n",
            "Epoch 48/200\n",
            "1835/1835 [==============================] - 4s 2ms/step - loss: 0.0319 - val_loss: 0.0316\n",
            "Epoch 49/200\n",
            "1835/1835 [==============================] - 3s 2ms/step - loss: 0.0319 - val_loss: 0.0318\n",
            "Epoch 50/200\n",
            "1835/1835 [==============================] - 3s 2ms/step - loss: 0.0318 - val_loss: 0.0312\n",
            "Epoch 51/200\n",
            "1835/1835 [==============================] - 3s 2ms/step - loss: 0.0318 - val_loss: 0.0315\n",
            "Epoch 52/200\n",
            "1835/1835 [==============================] - 3s 2ms/step - loss: 0.0318 - val_loss: 0.0323\n",
            "Epoch 53/200\n",
            "1835/1835 [==============================] - 4s 2ms/step - loss: 0.0317 - val_loss: 0.0317\n",
            "Epoch 54/200\n",
            "1835/1835 [==============================] - 3s 2ms/step - loss: 0.0318 - val_loss: 0.0313\n",
            "Epoch 55/200\n",
            "1835/1835 [==============================] - 4s 2ms/step - loss: 0.0318 - val_loss: 0.0316\n",
            "Epoch 56/200\n",
            "1835/1835 [==============================] - 4s 2ms/step - loss: 0.0317 - val_loss: 0.0312\n",
            "Epoch 57/200\n",
            "1835/1835 [==============================] - 3s 2ms/step - loss: 0.0317 - val_loss: 0.0314\n",
            "Epoch 58/200\n",
            "1835/1835 [==============================] - 4s 2ms/step - loss: 0.0317 - val_loss: 0.0323\n",
            "Epoch 59/200\n",
            "1835/1835 [==============================] - 4s 2ms/step - loss: 0.0317 - val_loss: 0.0316\n",
            "Epoch 60/200\n",
            "1835/1835 [==============================] - 4s 2ms/step - loss: 0.0317 - val_loss: 0.0312\n",
            "Epoch 61/200\n",
            "1835/1835 [==============================] - 4s 2ms/step - loss: 0.0317 - val_loss: 0.0318\n",
            "Epoch 62/200\n",
            "1835/1835 [==============================] - 3s 2ms/step - loss: 0.0317 - val_loss: 0.0314\n",
            "Epoch 63/200\n",
            "1835/1835 [==============================] - 4s 2ms/step - loss: 0.0317 - val_loss: 0.0312\n",
            "Epoch 64/200\n",
            "1835/1835 [==============================] - 3s 2ms/step - loss: 0.0317 - val_loss: 0.0314\n",
            "Epoch 65/200\n",
            "1835/1835 [==============================] - 4s 2ms/step - loss: 0.0318 - val_loss: 0.0321\n",
            "Epoch 66/200\n",
            "1835/1835 [==============================] - 3s 2ms/step - loss: 0.0317 - val_loss: 0.0312\n",
            "Epoch 67/200\n",
            "1835/1835 [==============================] - 3s 2ms/step - loss: 0.0316 - val_loss: 0.0314\n",
            "Epoch 68/200\n",
            "1835/1835 [==============================] - 3s 2ms/step - loss: 0.0316 - val_loss: 0.0315\n",
            "Epoch 69/200\n",
            "1835/1835 [==============================] - 4s 2ms/step - loss: 0.0316 - val_loss: 0.0319\n",
            "Epoch 70/200\n",
            "1835/1835 [==============================] - 3s 2ms/step - loss: 0.0316 - val_loss: 0.0311\n",
            "Epoch 71/200\n",
            "1835/1835 [==============================] - 4s 2ms/step - loss: 0.0317 - val_loss: 0.0314\n",
            "Epoch 72/200\n",
            "1835/1835 [==============================] - 3s 2ms/step - loss: 0.0317 - val_loss: 0.0312\n",
            "Epoch 73/200\n",
            "1835/1835 [==============================] - 3s 2ms/step - loss: 0.0315 - val_loss: 0.0317\n",
            "Epoch 74/200\n",
            "1835/1835 [==============================] - 3s 2ms/step - loss: 0.0316 - val_loss: 0.0319\n",
            "Epoch 75/200\n",
            "1835/1835 [==============================] - 3s 2ms/step - loss: 0.0316 - val_loss: 0.0313\n",
            "Epoch 76/200\n",
            "1835/1835 [==============================] - 3s 2ms/step - loss: 0.0316 - val_loss: 0.0312\n",
            "Epoch 77/200\n",
            "1835/1835 [==============================] - 4s 2ms/step - loss: 0.0316 - val_loss: 0.0312\n",
            "Epoch 78/200\n",
            "1835/1835 [==============================] - 3s 2ms/step - loss: 0.0316 - val_loss: 0.0313\n",
            "Epoch 79/200\n",
            "1835/1835 [==============================] - 3s 2ms/step - loss: 0.0316 - val_loss: 0.0312\n",
            "Epoch 80/200\n",
            "1835/1835 [==============================] - 4s 2ms/step - loss: 0.0316 - val_loss: 0.0310\n",
            "Epoch 81/200\n",
            "1835/1835 [==============================] - 4s 2ms/step - loss: 0.0316 - val_loss: 0.0313\n",
            "Epoch 82/200\n",
            "1835/1835 [==============================] - 3s 2ms/step - loss: 0.0315 - val_loss: 0.0310\n",
            "Epoch 83/200\n",
            "1835/1835 [==============================] - 4s 2ms/step - loss: 0.0316 - val_loss: 0.0312\n",
            "Epoch 84/200\n",
            "1835/1835 [==============================] - 4s 2ms/step - loss: 0.0316 - val_loss: 0.0318\n",
            "Epoch 85/200\n",
            "1835/1835 [==============================] - 4s 2ms/step - loss: 0.0315 - val_loss: 0.0311\n",
            "Epoch 86/200\n",
            "1835/1835 [==============================] - 3s 2ms/step - loss: 0.0316 - val_loss: 0.0313\n",
            "Epoch 87/200\n",
            "1835/1835 [==============================] - 3s 2ms/step - loss: 0.0315 - val_loss: 0.0311\n",
            "Epoch 88/200\n",
            "1835/1835 [==============================] - 4s 2ms/step - loss: 0.0316 - val_loss: 0.0319\n",
            "Epoch 89/200\n",
            "1835/1835 [==============================] - 3s 2ms/step - loss: 0.0316 - val_loss: 0.0318\n",
            "Epoch 90/200\n",
            "1835/1835 [==============================] - 3s 2ms/step - loss: 0.0315 - val_loss: 0.0314\n",
            "Epoch 91/200\n",
            "1835/1835 [==============================] - 4s 2ms/step - loss: 0.0316 - val_loss: 0.0310\n",
            "Epoch 92/200\n",
            "1835/1835 [==============================] - 3s 2ms/step - loss: 0.0316 - val_loss: 0.0312\n",
            "Epoch 93/200\n",
            "1835/1835 [==============================] - 4s 2ms/step - loss: 0.0316 - val_loss: 0.0322\n",
            "Epoch 94/200\n",
            "1835/1835 [==============================] - 4s 2ms/step - loss: 0.0316 - val_loss: 0.0317\n",
            "Epoch 95/200\n",
            "1835/1835 [==============================] - 3s 2ms/step - loss: 0.0315 - val_loss: 0.0312\n",
            "Epoch 96/200\n",
            "1835/1835 [==============================] - 3s 2ms/step - loss: 0.0314 - val_loss: 0.0315\n",
            "Epoch 97/200\n",
            "1835/1835 [==============================] - 4s 2ms/step - loss: 0.0314 - val_loss: 0.0316\n",
            "Epoch 98/200\n",
            "1835/1835 [==============================] - 4s 2ms/step - loss: 0.0314 - val_loss: 0.0309\n",
            "Epoch 99/200\n",
            "1835/1835 [==============================] - 3s 2ms/step - loss: 0.0314 - val_loss: 0.0310\n",
            "Epoch 100/200\n",
            "1835/1835 [==============================] - 3s 2ms/step - loss: 0.0314 - val_loss: 0.0312\n",
            "Epoch 101/200\n",
            "1835/1835 [==============================] - 4s 2ms/step - loss: 0.0314 - val_loss: 0.0313\n",
            "Epoch 102/200\n",
            "1835/1835 [==============================] - 4s 2ms/step - loss: 0.0313 - val_loss: 0.0308\n",
            "Epoch 103/200\n",
            "1835/1835 [==============================] - 4s 2ms/step - loss: 0.0314 - val_loss: 0.0310\n",
            "Epoch 104/200\n",
            "1835/1835 [==============================] - 4s 2ms/step - loss: 0.0313 - val_loss: 0.0308\n",
            "Epoch 105/200\n",
            "1835/1835 [==============================] - 4s 2ms/step - loss: 0.0313 - val_loss: 0.0310\n",
            "Epoch 106/200\n",
            "1835/1835 [==============================] - 3s 2ms/step - loss: 0.0313 - val_loss: 0.0314\n",
            "Epoch 107/200\n",
            "1835/1835 [==============================] - 4s 2ms/step - loss: 0.0313 - val_loss: 0.0309\n",
            "Epoch 108/200\n",
            "1835/1835 [==============================] - 4s 2ms/step - loss: 0.0312 - val_loss: 0.0309\n",
            "Epoch 109/200\n",
            "1835/1835 [==============================] - 4s 2ms/step - loss: 0.0313 - val_loss: 0.0308\n",
            "Epoch 110/200\n",
            "1835/1835 [==============================] - 4s 2ms/step - loss: 0.0313 - val_loss: 0.0309\n",
            "Epoch 111/200\n",
            "1835/1835 [==============================] - 4s 2ms/step - loss: 0.0312 - val_loss: 0.0316\n",
            "Epoch 112/200\n",
            "1835/1835 [==============================] - 3s 2ms/step - loss: 0.0312 - val_loss: 0.0307\n",
            "Epoch 113/200\n",
            "1835/1835 [==============================] - 4s 2ms/step - loss: 0.0312 - val_loss: 0.0307\n",
            "Epoch 114/200\n",
            "1835/1835 [==============================] - 3s 2ms/step - loss: 0.0312 - val_loss: 0.0310\n",
            "Epoch 115/200\n",
            "1835/1835 [==============================] - 3s 2ms/step - loss: 0.0312 - val_loss: 0.0307\n",
            "Epoch 116/200\n",
            "1835/1835 [==============================] - 3s 2ms/step - loss: 0.0312 - val_loss: 0.0309\n",
            "Epoch 117/200\n",
            "1835/1835 [==============================] - 3s 2ms/step - loss: 0.0312 - val_loss: 0.0307\n",
            "Epoch 118/200\n",
            "1835/1835 [==============================] - 4s 2ms/step - loss: 0.0312 - val_loss: 0.0306\n",
            "Epoch 119/200\n",
            "1835/1835 [==============================] - 4s 2ms/step - loss: 0.0312 - val_loss: 0.0307\n",
            "Epoch 120/200\n",
            "1835/1835 [==============================] - 3s 2ms/step - loss: 0.0311 - val_loss: 0.0307\n",
            "Epoch 121/200\n",
            "1835/1835 [==============================] - 3s 2ms/step - loss: 0.0312 - val_loss: 0.0306\n",
            "Epoch 122/200\n",
            "1835/1835 [==============================] - 4s 2ms/step - loss: 0.0312 - val_loss: 0.0308\n",
            "Epoch 123/200\n",
            "1835/1835 [==============================] - 3s 2ms/step - loss: 0.0311 - val_loss: 0.0309\n",
            "Epoch 124/200\n",
            "1835/1835 [==============================] - 3s 2ms/step - loss: 0.0312 - val_loss: 0.0307\n",
            "Epoch 125/200\n",
            "1835/1835 [==============================] - 3s 2ms/step - loss: 0.0311 - val_loss: 0.0324\n",
            "Epoch 126/200\n",
            "1835/1835 [==============================] - 4s 2ms/step - loss: 0.0312 - val_loss: 0.0307\n",
            "Epoch 127/200\n",
            "1835/1835 [==============================] - 3s 2ms/step - loss: 0.0311 - val_loss: 0.0306\n",
            "Epoch 128/200\n",
            "1835/1835 [==============================] - 3s 2ms/step - loss: 0.0311 - val_loss: 0.0306\n",
            "Epoch 129/200\n",
            "1835/1835 [==============================] - 3s 2ms/step - loss: 0.0311 - val_loss: 0.0307\n",
            "Epoch 130/200\n",
            "1835/1835 [==============================] - 4s 2ms/step - loss: 0.0311 - val_loss: 0.0306\n",
            "Epoch 131/200\n",
            "1835/1835 [==============================] - 3s 2ms/step - loss: 0.0311 - val_loss: 0.0309\n",
            "Epoch 132/200\n",
            "1835/1835 [==============================] - 4s 2ms/step - loss: 0.0311 - val_loss: 0.0306\n",
            "Epoch 133/200\n",
            "1835/1835 [==============================] - 3s 2ms/step - loss: 0.0310 - val_loss: 0.0306\n",
            "Epoch 134/200\n",
            "1835/1835 [==============================] - 3s 2ms/step - loss: 0.0311 - val_loss: 0.0308\n",
            "Epoch 135/200\n",
            "1835/1835 [==============================] - 3s 2ms/step - loss: 0.0310 - val_loss: 0.0310\n",
            "Epoch 136/200\n",
            "1835/1835 [==============================] - 3s 2ms/step - loss: 0.0310 - val_loss: 0.0312\n",
            "Epoch 137/200\n",
            "1835/1835 [==============================] - 4s 2ms/step - loss: 0.0310 - val_loss: 0.0305\n",
            "Epoch 138/200\n",
            "1835/1835 [==============================] - 3s 2ms/step - loss: 0.0311 - val_loss: 0.0310\n",
            "Epoch 139/200\n",
            "1835/1835 [==============================] - 4s 2ms/step - loss: 0.0310 - val_loss: 0.0310\n",
            "Epoch 140/200\n",
            "1835/1835 [==============================] - 4s 2ms/step - loss: 0.0310 - val_loss: 0.0307\n",
            "Epoch 141/200\n",
            "1835/1835 [==============================] - 3s 2ms/step - loss: 0.0310 - val_loss: 0.0306\n",
            "Epoch 142/200\n",
            "1835/1835 [==============================] - 4s 2ms/step - loss: 0.0310 - val_loss: 0.0308\n",
            "Epoch 143/200\n",
            "1835/1835 [==============================] - 3s 2ms/step - loss: 0.0311 - val_loss: 0.0307\n",
            "Epoch 144/200\n",
            "1835/1835 [==============================] - 4s 2ms/step - loss: 0.0310 - val_loss: 0.0305\n",
            "Epoch 145/200\n",
            "1835/1835 [==============================] - 4s 2ms/step - loss: 0.0310 - val_loss: 0.0305\n",
            "Epoch 146/200\n",
            "1835/1835 [==============================] - 4s 2ms/step - loss: 0.0310 - val_loss: 0.0307\n",
            "Epoch 147/200\n",
            "1835/1835 [==============================] - 3s 2ms/step - loss: 0.0310 - val_loss: 0.0306\n",
            "Epoch 148/200\n",
            "1835/1835 [==============================] - 3s 2ms/step - loss: 0.0310 - val_loss: 0.0307\n",
            "Epoch 149/200\n",
            "1835/1835 [==============================] - 4s 2ms/step - loss: 0.0310 - val_loss: 0.0311\n",
            "Epoch 150/200\n",
            "1835/1835 [==============================] - 4s 2ms/step - loss: 0.0310 - val_loss: 0.0305\n",
            "Epoch 151/200\n",
            "1835/1835 [==============================] - 3s 2ms/step - loss: 0.0310 - val_loss: 0.0306\n",
            "Epoch 152/200\n",
            "1835/1835 [==============================] - 3s 2ms/step - loss: 0.0310 - val_loss: 0.0310\n",
            "Epoch 153/200\n",
            "1835/1835 [==============================] - 3s 2ms/step - loss: 0.0310 - val_loss: 0.0306\n",
            "Epoch 154/200\n",
            "1835/1835 [==============================] - 3s 2ms/step - loss: 0.0310 - val_loss: 0.0311\n",
            "Epoch 155/200\n",
            "1835/1835 [==============================] - 4s 2ms/step - loss: 0.0310 - val_loss: 0.0305\n",
            "Epoch 156/200\n",
            "1835/1835 [==============================] - 3s 2ms/step - loss: 0.0310 - val_loss: 0.0306\n",
            "Epoch 157/200\n",
            "1835/1835 [==============================] - 4s 2ms/step - loss: 0.0310 - val_loss: 0.0309\n",
            "Epoch 158/200\n",
            "1835/1835 [==============================] - 4s 2ms/step - loss: 0.0310 - val_loss: 0.0314\n",
            "Epoch 159/200\n",
            "1835/1835 [==============================] - 3s 2ms/step - loss: 0.0310 - val_loss: 0.0308\n",
            "Epoch 160/200\n",
            "1835/1835 [==============================] - 4s 2ms/step - loss: 0.0310 - val_loss: 0.0306\n",
            "Epoch 161/200\n",
            "1835/1835 [==============================] - 3s 2ms/step - loss: 0.0310 - val_loss: 0.0308\n",
            "Epoch 162/200\n",
            "1835/1835 [==============================] - 4s 2ms/step - loss: 0.0310 - val_loss: 0.0307\n",
            "Epoch 163/200\n",
            "1835/1835 [==============================] - 4s 2ms/step - loss: 0.0310 - val_loss: 0.0305\n",
            "Epoch 164/200\n",
            "1835/1835 [==============================] - 3s 2ms/step - loss: 0.0309 - val_loss: 0.0306\n",
            "Epoch 165/200\n",
            "1835/1835 [==============================] - 3s 2ms/step - loss: 0.0310 - val_loss: 0.0305\n",
            "Epoch 166/200\n",
            "1835/1835 [==============================] - 4s 2ms/step - loss: 0.0309 - val_loss: 0.0305\n",
            "Epoch 167/200\n",
            "1835/1835 [==============================] - 3s 2ms/step - loss: 0.0310 - val_loss: 0.0305\n",
            "Epoch 168/200\n",
            "1835/1835 [==============================] - 3s 2ms/step - loss: 0.0309 - val_loss: 0.0305\n",
            "Epoch 169/200\n",
            "1835/1835 [==============================] - 3s 2ms/step - loss: 0.0310 - val_loss: 0.0312\n",
            "Epoch 170/200\n",
            "1835/1835 [==============================] - 4s 2ms/step - loss: 0.0309 - val_loss: 0.0305\n",
            "Epoch 171/200\n",
            "1835/1835 [==============================] - 3s 2ms/step - loss: 0.0310 - val_loss: 0.0305\n",
            "Epoch 172/200\n",
            "1835/1835 [==============================] - 4s 2ms/step - loss: 0.0310 - val_loss: 0.0310\n",
            "Epoch 173/200\n",
            "1835/1835 [==============================] - 4s 2ms/step - loss: 0.0309 - val_loss: 0.0305\n",
            "Epoch 174/200\n",
            "1835/1835 [==============================] - 3s 2ms/step - loss: 0.0310 - val_loss: 0.0309\n",
            "Epoch 175/200\n",
            "1835/1835 [==============================] - 3s 2ms/step - loss: 0.0310 - val_loss: 0.0306\n",
            "Epoch 176/200\n",
            "1835/1835 [==============================] - 3s 2ms/step - loss: 0.0310 - val_loss: 0.0309\n",
            "Epoch 177/200\n",
            "1835/1835 [==============================] - 3s 2ms/step - loss: 0.0310 - val_loss: 0.0305\n",
            "Epoch 178/200\n",
            "1835/1835 [==============================] - 4s 2ms/step - loss: 0.0309 - val_loss: 0.0306\n",
            "Epoch 179/200\n",
            "1835/1835 [==============================] - 3s 2ms/step - loss: 0.0309 - val_loss: 0.0312\n",
            "Epoch 180/200\n",
            "1835/1835 [==============================] - 3s 2ms/step - loss: 0.0309 - val_loss: 0.0305\n",
            "Epoch 181/200\n",
            "1835/1835 [==============================] - 3s 2ms/step - loss: 0.0309 - val_loss: 0.0307\n",
            "Epoch 182/200\n",
            "1835/1835 [==============================] - 4s 2ms/step - loss: 0.0309 - val_loss: 0.0309\n",
            "Epoch 183/200\n",
            "1835/1835 [==============================] - 4s 2ms/step - loss: 0.0310 - val_loss: 0.0306\n",
            "Epoch 184/200\n",
            "1835/1835 [==============================] - 4s 2ms/step - loss: 0.0309 - val_loss: 0.0305\n",
            "Epoch 185/200\n",
            "1835/1835 [==============================] - 4s 2ms/step - loss: 0.0310 - val_loss: 0.0306\n",
            "Epoch 186/200\n",
            "1835/1835 [==============================] - 3s 2ms/step - loss: 0.0309 - val_loss: 0.0312\n",
            "Epoch 187/200\n",
            "1835/1835 [==============================] - 3s 2ms/step - loss: 0.0309 - val_loss: 0.0306\n",
            "Epoch 188/200\n",
            "1835/1835 [==============================] - 4s 2ms/step - loss: 0.0309 - val_loss: 0.0308\n",
            "Epoch 189/200\n",
            "1835/1835 [==============================] - 4s 2ms/step - loss: 0.0309 - val_loss: 0.0305\n",
            "Epoch 190/200\n",
            "1835/1835 [==============================] - 3s 2ms/step - loss: 0.0309 - val_loss: 0.0305\n",
            "Epoch 191/200\n",
            "1835/1835 [==============================] - 4s 2ms/step - loss: 0.0309 - val_loss: 0.0305\n",
            "Epoch 192/200\n",
            "1835/1835 [==============================] - 4s 2ms/step - loss: 0.0309 - val_loss: 0.0306\n",
            "Epoch 193/200\n",
            "1835/1835 [==============================] - 4s 2ms/step - loss: 0.0310 - val_loss: 0.0306\n",
            "Epoch 194/200\n",
            "1835/1835 [==============================] - 3s 2ms/step - loss: 0.0309 - val_loss: 0.0310\n",
            "Epoch 195/200\n",
            "1835/1835 [==============================] - 4s 2ms/step - loss: 0.0310 - val_loss: 0.0307\n",
            "Epoch 196/200\n",
            "1835/1835 [==============================] - 3s 2ms/step - loss: 0.0309 - val_loss: 0.0307\n",
            "Epoch 197/200\n",
            "1835/1835 [==============================] - 4s 2ms/step - loss: 0.0309 - val_loss: 0.0305\n",
            "Epoch 198/200\n",
            "1835/1835 [==============================] - 4s 2ms/step - loss: 0.0309 - val_loss: 0.0308\n",
            "Epoch 199/200\n",
            "1835/1835 [==============================] - 4s 2ms/step - loss: 0.0310 - val_loss: 0.0305\n",
            "Epoch 200/200\n",
            "1835/1835 [==============================] - 5s 2ms/step - loss: 0.0309 - val_loss: 0.0307\n"
          ]
        },
        {
          "output_type": "execute_result",
          "data": {
            "text/plain": [
              "<keras.src.callbacks.History at 0x78435efac940>"
            ]
          },
          "metadata": {},
          "execution_count": 75
        }
      ]
    },
    {
      "cell_type": "code",
      "source": [
        "veri = model.history.history"
      ],
      "metadata": {
        "id": "6ydANaZdx4_8"
      },
      "execution_count": null,
      "outputs": []
    },
    {
      "cell_type": "code",
      "source": [
        "sbn.lineplot(veri)"
      ],
      "metadata": {
        "colab": {
          "base_uri": "https://localhost:8080/",
          "height": 447
        },
        "id": "V60ATNPpx5Cf",
        "outputId": "4462b59e-feb3-435f-fdcd-c33f05cc5aa2"
      },
      "execution_count": null,
      "outputs": [
        {
          "output_type": "execute_result",
          "data": {
            "text/plain": [
              "<Axes: >"
            ]
          },
          "metadata": {},
          "execution_count": 77
        },
        {
          "output_type": "display_data",
          "data": {
            "text/plain": [
              "<Figure size 640x480 with 1 Axes>"
            ],
            "image/png": "[encoded data removed]"
          },
          "metadata": {}
        }
      ]
    },
    {
      "cell_type": "code",
      "source": [
        "from tensorflow.keras.metrics import mean_absolute_error,mean_squared_error"
      ],
      "metadata": {
        "id": "u848pHpBy3z4"
      },
      "execution_count": null,
      "outputs": []
    },
    {
      "cell_type": "code",
      "source": [
        "tahminDizisi = model.predict(x_test)"
      ],
      "metadata": {
        "colab": {
          "base_uri": "https://localhost:8080/"
        },
        "id": "7NuXPQuWy32K",
        "outputId": "1781f3e5-944b-4ee2-8611-fbd9de744d12"
      },
      "execution_count": null,
      "outputs": [
        {
          "output_type": "stream",
          "name": "stdout",
          "text": [
            "452/452 [==============================] - 0s 838us/step\n"
          ]
        }
      ]
    },
    {
      "cell_type": "code",
      "source": [
        "tahminDizisi.shape"
      ],
      "metadata": {
        "colab": {
          "base_uri": "https://localhost:8080/"
        },
        "id": "YxvlJnHjMZeD",
        "outputId": "0662f9b5-fa6f-4175-c5f2-e402bc708576"
      },
      "execution_count": null,
      "outputs": [
        {
          "output_type": "execute_result",
          "data": {
            "text/plain": [
              "(14454, 1)"
            ]
          },
          "metadata": {},
          "execution_count": 80
        }
      ]
    },
    {
      "cell_type": "code",
      "source": [
        "#tahminDizisi = pd.Series(tahminDizisi.reshape(102,))"
      ],
      "metadata": {
        "id": "44HRNpnlMTd4"
      },
      "execution_count": null,
      "outputs": []
    },
    {
      "cell_type": "code",
      "source": [
        "mean_absolute_error(y_test,tahminDizisi)"
      ],
      "metadata": {
        "colab": {
          "base_uri": "https://localhost:8080/"
        },
        "id": "1wq9RjE-y4ID",
        "outputId": "5888aebf-c78c-4a2a-adb0-d0b468827b2f"
      },
      "execution_count": null,
      "outputs": [
        {
          "output_type": "execute_result",
          "data": {
            "text/plain": [
              "<tf.Tensor: shape=(14454,), dtype=float32, numpy=\n",
              "array([0.25928113, 0.25011465, 0.3140862 , ..., 0.29643142, 0.25497946,\n",
              "       0.2937807 ], dtype=float32)>"
            ]
          },
          "metadata": {},
          "execution_count": 82
        }
      ]
    },
    {
      "cell_type": "code",
      "source": [
        "mean_squared_error(y_test,tahminDizisi)"
      ],
      "metadata": {
        "colab": {
          "base_uri": "https://localhost:8080/"
        },
        "id": "KltA2c5xy4K-",
        "outputId": "724cb87a-d0f2-4b77-a041-c054734154fe"
      },
      "execution_count": null,
      "outputs": [
        {
          "output_type": "execute_result",
          "data": {
            "text/plain": [
              "<tf.Tensor: shape=(14454,), dtype=float32, numpy=\n",
              "array([0.10854889, 0.08422917, 0.16866662, ..., 0.15135647, 0.08379965,\n",
              "       0.14864871], dtype=float32)>"
            ]
          },
          "metadata": {},
          "execution_count": 83
        }
      ]
    },
    {
      "cell_type": "code",
      "source": [
        "plt.scatter(y_test,tahminDizisi)\n",
        "plt.plot(y_test,y_test,\"r--\")"
      ],
      "metadata": {
        "colab": {
          "base_uri": "https://localhost:8080/",
          "height": 447
        },
        "id": "lDF9RP6RzV2q",
        "outputId": "f92e92f0-8409-40c0-fd48-bd5c72dae5bd"
      },
      "execution_count": null,
      "outputs": [
        {
          "output_type": "execute_result",
          "data": {
            "text/plain": [
              "[<matplotlib.lines.Line2D at 0x78435eb39de0>]"
            ]
          },
          "metadata": {},
          "execution_count": 84
        },
        {
          "output_type": "display_data",
          "data": {
            "text/plain": [
              "<Figure size 640x480 with 1 Axes>"
            ],
            "image/png": "[encoded data removed]"
          },
          "metadata": {}
        }
      ]
    },
    {
      "cell_type": "code",
      "source": [
        "data_set = [[27.4,88,24.3,1.3,58,1.6]]"
      ],
      "metadata": {
        "id": "LEtXbMDuzV5V"
      },
      "execution_count": null,
      "outputs": []
    },
    {
      "cell_type": "code",
      "source": [
        "data_set = scaler.transform(data_set)"
      ],
      "metadata": {
        "id": "BLvmX5cU5Bvv"
      },
      "execution_count": null,
      "outputs": []
    },
    {
      "cell_type": "code",
      "source": [
        "data.iloc[3]"
      ],
      "metadata": {
        "colab": {
          "base_uri": "https://localhost:8080/"
        },
        "id": "FARy8GQazV7y",
        "outputId": "2e767804-36ef-40fe-8b08-c4cb7175b986"
      },
      "execution_count": null,
      "outputs": [
        {
          "output_type": "execute_result",
          "data": {
            "text/plain": [
              "temperature_2m         27.4000\n",
              "relativehumidity_2m    88.0000\n",
              "dewpoint_2m            24.3000\n",
              "windspeed_10m           1.3000\n",
              "winddirection_10m      58.0000\n",
              "windgusts_10m           1.6000\n",
              "Power                   0.1003\n",
              "Name: 3, dtype: float64"
            ]
          },
          "metadata": {},
          "execution_count": 87
        }
      ]
    },
    {
      "cell_type": "code",
      "source": [
        "model.predict(data_set)"
      ],
      "metadata": {
        "colab": {
          "base_uri": "https://localhost:8080/"
        },
        "id": "F4ZUUeIkzV-g",
        "outputId": "d2fbf033-ff6b-4dec-8d93-016319f1028c"
      },
      "execution_count": null,
      "outputs": [
        {
          "output_type": "stream",
          "name": "stdout",
          "text": [
            "1/1 [==============================] - 0s 26ms/step\n"
          ]
        },
        {
          "output_type": "execute_result",
          "data": {
            "text/plain": [
              "array([[0.1549829]], dtype=float32)"
            ]
          },
          "metadata": {},
          "execution_count": 88
        }
      ]
    },
    {
      "cell_type": "code",
      "source": [
        "from tensorflow.keras.models import load_model"
      ],
      "metadata": {
        "id": "BJP7G5rkKjpE"
      },
      "execution_count": null,
      "outputs": []
    },
    {
      "cell_type": "code",
      "source": [
        "model.save(\"windPower.h5\")"
      ],
      "metadata": {
        "id": "Rr7RCWqgLJbs",
        "colab": {
          "base_uri": "https://localhost:8080/"
        },
        "outputId": "e377900b-a199-40c4-b4cd-a053eac017c0"
      },
      "execution_count": null,
      "outputs": [
        {
          "output_type": "stream",
          "name": "stderr",
          "text": [
            "/usr/local/lib/python3.10/dist-packages/keras/src/engine/training.py:3103: UserWarning: You are saving your model as an HDF5 file via `model.save()`. This file format is considered legacy. We recommend using instead the native Keras format, e.g. `model.save('my_model.keras')`.\n",
            "  saving_api.save_model(\n"
          ]
        }
      ]
    },
    {
      "cell_type": "code",
      "source": [
        "sonModel = load_model(\"windPower.h5\")"
      ],
      "metadata": {
        "id": "jIrFPlkSMDiL"
      },
      "execution_count": null,
      "outputs": []
    },
    {
      "cell_type": "code",
      "source": [
        "sonModel.predict(data_set)"
      ],
      "metadata": {
        "id": "JYnM5TIgMs35",
        "colab": {
          "base_uri": "https://localhost:8080/"
        },
        "outputId": "daad74a7-5ecb-4ce6-b259-bce8d20c2a08"
      },
      "execution_count": null,
      "outputs": [
        {
          "output_type": "stream",
          "name": "stdout",
          "text": [
            "1/1 [==============================] - 0s 57ms/step\n"
          ]
        },
        {
          "output_type": "execute_result",
          "data": {
            "text/plain": [
              "array([[0.1549829]], dtype=float32)"
            ]
          },
          "metadata": {},
          "execution_count": 92
        }
      ]
    },
    {
      "cell_type": "code",
      "source": [
        "wind = [[27.4,88,24.3,1.3,58,1.6]]"
      ],
      "metadata": {
        "id": "867U-_mVMxPc"
      },
      "execution_count": null,
      "outputs": []
    },
    {
      "cell_type": "code",
      "source": [
        "wind = scaler.transform(wind)"
      ],
      "metadata": {
        "id": "U5tNwHsKEUci"
      },
      "execution_count": null,
      "outputs": []
    },
    {
      "cell_type": "code",
      "source": [
        "sonModel.predict(wind)"
      ],
      "metadata": {
        "id": "eStNubDYwunI",
        "colab": {
          "base_uri": "https://localhost:8080/"
        },
        "outputId": "5e2ea553-dd35-46fa-c067-846922db9fd8"
      },
      "execution_count": null,
      "outputs": [
        {
          "output_type": "stream",
          "name": "stdout",
          "text": [
            "1/1 [==============================] - 0s 15ms/step\n"
          ]
        },
        {
          "output_type": "execute_result",
          "data": {
            "text/plain": [
              "array([[0.1549829]], dtype=float32)"
            ]
          },
          "metadata": {},
          "execution_count": 97
        }
      ]
    }
  ]
}